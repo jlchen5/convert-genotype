{
 "cells": [
  {
   "cell_type": "code",
   "execution_count": 6,
   "id": "3fb7f257-f01a-45ab-a23d-5f551abf05d9",
   "metadata": {},
   "outputs": [
    {
     "name": "stdout",
     "output_type": "stream",
     "text": [
      "处理完成！结果已保存到 output.txt\n"
     ]
    }
   ],
   "source": [
    "# 定义转换函数\n",
    "def convert_genotype(geno, ref, alt):\n",
    "    \"\"\"\n",
    "    将基因型字符串（如 \"0/1\"）转换为碱基表示\n",
    "    :param geno: 基因型字符串，如 \"0/1\"\n",
    "    :param ref: 参考碱基（REF列）\n",
    "    :param alt: 变异碱基（ALT列，可能包含多个用逗号分隔的值）\n",
    "    :return: 转换后的碱基型，如 \"A/T\"\n",
    "    \"\"\"\n",
    "    alt_list = alt.split(',') if alt != '.' else []\n",
    "    alleles = geno.split('/')\n",
    "    converted = []\n",
    "    for allele in alleles:\n",
    "        if allele == '.':\n",
    "            converted.append('.')\n",
    "        else:\n",
    "            a = int(allele)\n",
    "            if a == 0:\n",
    "                converted.append(ref)\n",
    "            else:\n",
    "                if a-1 < len(alt_list):\n",
    "                    converted.append(alt_list[a-1])\n",
    "                else:\n",
    "                    converted.append('?')  # 处理无效等位\n",
    "    return '/'.join(converted)\n",
    "\n",
    "# 定义主函数\n",
    "def process_file(input_file, output_file):\n",
    "    \"\"\"\n",
    "    处理输入文件并生成输出文件\n",
    "    :param input_file: 输入文件名\n",
    "    :param output_file: 输出文件名\n",
    "    \"\"\"\n",
    "    with open(input_file, 'r') as f_in, open(output_file, 'w') as f_out:\n",
    "        # 处理表头\n",
    "        header = f_in.readline().strip().split('\\t')\n",
    "        new_header = []\n",
    "        for col in header:\n",
    "            new_header.append(col)\n",
    "            if col in ['KM1502', 'KM1706', 'PY9', 'X2016']:\n",
    "                new_header.append(f\"{col}_GT\")\n",
    "        f_out.write('\\t'.join(new_header) + '\\n')\n",
    "\n",
    "        # 处理每一行\n",
    "        for line in f_in:\n",
    "            row = line.strip().split('\\t')\n",
    "            chrom, pos, ref, alt = row[0], row[1], row[2], row[3]\n",
    "            new_row = row[:4]  # 保留前4列\n",
    "\n",
    "            # 处理每个样本的基因型\n",
    "            for i in range(4, len(row)):\n",
    "                gt = row[i]\n",
    "                converted = convert_genotype(gt, ref, alt)\n",
    "                new_row.extend([gt, converted])\n",
    "\n",
    "            f_out.write('\\t'.join(new_row) + '\\n')\n",
    "\n",
    "# 在 Notebook 中调用主函数\n",
    "if __name__ == '__main__':\n",
    "    input_file = 'panel.snp.gt.txt'  # 输入文件名\n",
    "    output_file = 'output.txt'  # 输出文件名\n",
    "    process_file(input_file, output_file)\n",
    "    print(f\"处理完成！结果已保存到 {output_file}\")\n"
   ]
  },
  {
   "cell_type": "code",
   "execution_count": null,
   "id": "3761e3e2-0b0a-41e8-a412-571a35ed4e49",
   "metadata": {},
   "outputs": [],
   "source": []
  }
 ],
 "metadata": {
  "kernelspec": {
   "display_name": "Python 3 (ipykernel)",
   "language": "python",
   "name": "python3"
  },
  "language_info": {
   "codemirror_mode": {
    "name": "ipython",
    "version": 3
   },
   "file_extension": ".py",
   "mimetype": "text/x-python",
   "name": "python",
   "nbconvert_exporter": "python",
   "pygments_lexer": "ipython3",
   "version": "3.12.7"
  }
 },
 "nbformat": 4,
 "nbformat_minor": 5
}
